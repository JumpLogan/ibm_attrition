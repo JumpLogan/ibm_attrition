{
 "cells": [
  {
   "cell_type": "code",
   "execution_count": 137,
   "metadata": {},
   "outputs": [
    {
     "name": "stdout",
     "output_type": "stream",
     "text": [
      "Populating the interactive namespace from numpy and matplotlib\n"
     ]
    },
    {
     "data": {
      "text/html": [
       "<div>\n",
       "<style scoped>\n",
       "    .dataframe tbody tr th:only-of-type {\n",
       "        vertical-align: middle;\n",
       "    }\n",
       "\n",
       "    .dataframe tbody tr th {\n",
       "        vertical-align: top;\n",
       "    }\n",
       "\n",
       "    .dataframe thead th {\n",
       "        text-align: right;\n",
       "    }\n",
       "</style>\n",
       "<table border=\"1\" class=\"dataframe\">\n",
       "  <thead>\n",
       "    <tr style=\"text-align: right;\">\n",
       "      <th></th>\n",
       "      <th>Age</th>\n",
       "      <th>Attrition</th>\n",
       "      <th>BusinessTravel</th>\n",
       "      <th>DailyRate</th>\n",
       "      <th>Department</th>\n",
       "      <th>DistanceFromHome</th>\n",
       "      <th>Education</th>\n",
       "      <th>EducationField</th>\n",
       "      <th>EmployeeCount</th>\n",
       "      <th>EmployeeNumber</th>\n",
       "      <th>...</th>\n",
       "      <th>RelationshipSatisfaction</th>\n",
       "      <th>StandardHours</th>\n",
       "      <th>StockOptionLevel</th>\n",
       "      <th>TotalWorkingYears</th>\n",
       "      <th>TrainingTimesLastYear</th>\n",
       "      <th>WorkLifeBalance</th>\n",
       "      <th>YearsAtCompany</th>\n",
       "      <th>YearsInCurrentRole</th>\n",
       "      <th>YearsSinceLastPromotion</th>\n",
       "      <th>YearsWithCurrManager</th>\n",
       "    </tr>\n",
       "  </thead>\n",
       "  <tbody>\n",
       "    <tr>\n",
       "      <th>0</th>\n",
       "      <td>41</td>\n",
       "      <td>Yes</td>\n",
       "      <td>Travel_Rarely</td>\n",
       "      <td>1102</td>\n",
       "      <td>Sales</td>\n",
       "      <td>1</td>\n",
       "      <td>2</td>\n",
       "      <td>Life Sciences</td>\n",
       "      <td>1</td>\n",
       "      <td>1</td>\n",
       "      <td>...</td>\n",
       "      <td>1</td>\n",
       "      <td>80</td>\n",
       "      <td>0</td>\n",
       "      <td>8</td>\n",
       "      <td>0</td>\n",
       "      <td>1</td>\n",
       "      <td>6</td>\n",
       "      <td>4</td>\n",
       "      <td>0</td>\n",
       "      <td>5</td>\n",
       "    </tr>\n",
       "    <tr>\n",
       "      <th>1</th>\n",
       "      <td>49</td>\n",
       "      <td>No</td>\n",
       "      <td>Travel_Frequently</td>\n",
       "      <td>279</td>\n",
       "      <td>Research &amp; Development</td>\n",
       "      <td>8</td>\n",
       "      <td>1</td>\n",
       "      <td>Life Sciences</td>\n",
       "      <td>1</td>\n",
       "      <td>2</td>\n",
       "      <td>...</td>\n",
       "      <td>4</td>\n",
       "      <td>80</td>\n",
       "      <td>1</td>\n",
       "      <td>10</td>\n",
       "      <td>3</td>\n",
       "      <td>3</td>\n",
       "      <td>10</td>\n",
       "      <td>7</td>\n",
       "      <td>1</td>\n",
       "      <td>7</td>\n",
       "    </tr>\n",
       "    <tr>\n",
       "      <th>2</th>\n",
       "      <td>37</td>\n",
       "      <td>Yes</td>\n",
       "      <td>Travel_Rarely</td>\n",
       "      <td>1373</td>\n",
       "      <td>Research &amp; Development</td>\n",
       "      <td>2</td>\n",
       "      <td>2</td>\n",
       "      <td>Other</td>\n",
       "      <td>1</td>\n",
       "      <td>4</td>\n",
       "      <td>...</td>\n",
       "      <td>2</td>\n",
       "      <td>80</td>\n",
       "      <td>0</td>\n",
       "      <td>7</td>\n",
       "      <td>3</td>\n",
       "      <td>3</td>\n",
       "      <td>0</td>\n",
       "      <td>0</td>\n",
       "      <td>0</td>\n",
       "      <td>0</td>\n",
       "    </tr>\n",
       "    <tr>\n",
       "      <th>3</th>\n",
       "      <td>33</td>\n",
       "      <td>No</td>\n",
       "      <td>Travel_Frequently</td>\n",
       "      <td>1392</td>\n",
       "      <td>Research &amp; Development</td>\n",
       "      <td>3</td>\n",
       "      <td>4</td>\n",
       "      <td>Life Sciences</td>\n",
       "      <td>1</td>\n",
       "      <td>5</td>\n",
       "      <td>...</td>\n",
       "      <td>3</td>\n",
       "      <td>80</td>\n",
       "      <td>0</td>\n",
       "      <td>8</td>\n",
       "      <td>3</td>\n",
       "      <td>3</td>\n",
       "      <td>8</td>\n",
       "      <td>7</td>\n",
       "      <td>3</td>\n",
       "      <td>0</td>\n",
       "    </tr>\n",
       "    <tr>\n",
       "      <th>4</th>\n",
       "      <td>27</td>\n",
       "      <td>No</td>\n",
       "      <td>Travel_Rarely</td>\n",
       "      <td>591</td>\n",
       "      <td>Research &amp; Development</td>\n",
       "      <td>2</td>\n",
       "      <td>1</td>\n",
       "      <td>Medical</td>\n",
       "      <td>1</td>\n",
       "      <td>7</td>\n",
       "      <td>...</td>\n",
       "      <td>4</td>\n",
       "      <td>80</td>\n",
       "      <td>1</td>\n",
       "      <td>6</td>\n",
       "      <td>3</td>\n",
       "      <td>3</td>\n",
       "      <td>2</td>\n",
       "      <td>2</td>\n",
       "      <td>2</td>\n",
       "      <td>2</td>\n",
       "    </tr>\n",
       "  </tbody>\n",
       "</table>\n",
       "<p>5 rows × 35 columns</p>\n",
       "</div>"
      ],
      "text/plain": [
       "   Age Attrition     BusinessTravel  DailyRate              Department  \\\n",
       "0   41       Yes      Travel_Rarely       1102                   Sales   \n",
       "1   49        No  Travel_Frequently        279  Research & Development   \n",
       "2   37       Yes      Travel_Rarely       1373  Research & Development   \n",
       "3   33        No  Travel_Frequently       1392  Research & Development   \n",
       "4   27        No      Travel_Rarely        591  Research & Development   \n",
       "\n",
       "   DistanceFromHome  Education EducationField  EmployeeCount  EmployeeNumber  \\\n",
       "0                 1          2  Life Sciences              1               1   \n",
       "1                 8          1  Life Sciences              1               2   \n",
       "2                 2          2          Other              1               4   \n",
       "3                 3          4  Life Sciences              1               5   \n",
       "4                 2          1        Medical              1               7   \n",
       "\n",
       "   ...  RelationshipSatisfaction StandardHours  StockOptionLevel  \\\n",
       "0  ...                         1            80                 0   \n",
       "1  ...                         4            80                 1   \n",
       "2  ...                         2            80                 0   \n",
       "3  ...                         3            80                 0   \n",
       "4  ...                         4            80                 1   \n",
       "\n",
       "   TotalWorkingYears  TrainingTimesLastYear WorkLifeBalance  YearsAtCompany  \\\n",
       "0                  8                      0               1               6   \n",
       "1                 10                      3               3              10   \n",
       "2                  7                      3               3               0   \n",
       "3                  8                      3               3               8   \n",
       "4                  6                      3               3               2   \n",
       "\n",
       "  YearsInCurrentRole  YearsSinceLastPromotion  YearsWithCurrManager  \n",
       "0                  4                        0                     5  \n",
       "1                  7                        1                     7  \n",
       "2                  0                        0                     0  \n",
       "3                  7                        3                     0  \n",
       "4                  2                        2                     2  \n",
       "\n",
       "[5 rows x 35 columns]"
      ]
     },
     "execution_count": 137,
     "metadata": {},
     "output_type": "execute_result"
    }
   ],
   "source": [
    "from pandas import Series, DataFrame\n",
    "import pandas as pd\n",
    "from patsy import dmatrices\n",
    "%pylab inline\n",
    "\n",
    "df=pd.read_csv('Employee_attrition.csv')\n",
    "df[:5]"
   ]
  },
  {
   "cell_type": "code",
   "execution_count": 138,
   "metadata": {},
   "outputs": [
    {
     "data": {
      "text/plain": [
       "<matplotlib.axes._subplots.AxesSubplot at 0x106808d0>"
      ]
     },
     "execution_count": 138,
     "metadata": {},
     "output_type": "execute_result"
    },
    {
     "data": {
      "image/png": "[encoded data removed]",
      "text/plain": [
       "<Figure size 432x288 with 1 Axes>"
      ]
     },
     "metadata": {
      "needs_background": "light"
     },
     "output_type": "display_data"
    }
   ],
   "source": [
    "df['Age'].hist(bins=8)\n",
    "df['NumCompaniesWorked'].hist(bins=4)"
   ]
  },
  {
   "cell_type": "code",
   "execution_count": 139,
   "metadata": {},
   "outputs": [
    {
     "data": {
      "text/plain": [
       "<matplotlib.axes._subplots.AxesSubplot at 0x1044c2e8>"
      ]
     },
     "execution_count": 139,
     "metadata": {},
     "output_type": "execute_result"
    },
    {
     "data": {
      "image/png": "[encoded data removed]",
      "text/plain": [
       "<Figure size 432x288 with 1 Axes>"
      ]
     },
     "metadata": {
      "needs_background": "light"
     },
     "output_type": "display_data"
    }
   ],
   "source": [
    "df['MonthlyIncome'].hist(bins=8)"
   ]
  },
  {
   "cell_type": "code",
   "execution_count": 140,
   "metadata": {},
   "outputs": [
    {
     "data": {
      "text/html": [
       "<div>\n",
       "<style scoped>\n",
       "    .dataframe tbody tr th:only-of-type {\n",
       "        vertical-align: middle;\n",
       "    }\n",
       "\n",
       "    .dataframe tbody tr th {\n",
       "        vertical-align: top;\n",
       "    }\n",
       "\n",
       "    .dataframe thead th {\n",
       "        text-align: right;\n",
       "    }\n",
       "</style>\n",
       "<table border=\"1\" class=\"dataframe\">\n",
       "  <thead>\n",
       "    <tr style=\"text-align: right;\">\n",
       "      <th>JobSatisfaction</th>\n",
       "      <th>1</th>\n",
       "      <th>2</th>\n",
       "      <th>3</th>\n",
       "      <th>4</th>\n",
       "    </tr>\n",
       "    <tr>\n",
       "      <th>EnvironmentSatisfaction</th>\n",
       "      <th></th>\n",
       "      <th></th>\n",
       "      <th></th>\n",
       "      <th></th>\n",
       "    </tr>\n",
       "  </thead>\n",
       "  <tbody>\n",
       "    <tr>\n",
       "      <th>1</th>\n",
       "      <td>53</td>\n",
       "      <td>47</td>\n",
       "      <td>100</td>\n",
       "      <td>84</td>\n",
       "    </tr>\n",
       "    <tr>\n",
       "      <th>2</th>\n",
       "      <td>55</td>\n",
       "      <td>59</td>\n",
       "      <td>84</td>\n",
       "      <td>89</td>\n",
       "    </tr>\n",
       "    <tr>\n",
       "      <th>3</th>\n",
       "      <td>94</td>\n",
       "      <td>87</td>\n",
       "      <td>128</td>\n",
       "      <td>144</td>\n",
       "    </tr>\n",
       "    <tr>\n",
       "      <th>4</th>\n",
       "      <td>87</td>\n",
       "      <td>87</td>\n",
       "      <td>130</td>\n",
       "      <td>142</td>\n",
       "    </tr>\n",
       "  </tbody>\n",
       "</table>\n",
       "</div>"
      ],
      "text/plain": [
       "JobSatisfaction           1   2    3    4\n",
       "EnvironmentSatisfaction                  \n",
       "1                        53  47  100   84\n",
       "2                        55  59   84   89\n",
       "3                        94  87  128  144\n",
       "4                        87  87  130  142"
      ]
     },
     "execution_count": 140,
     "metadata": {},
     "output_type": "execute_result"
    }
   ],
   "source": [
    "#scatter(df['MonthlyIncome'],df['PercentSalaryHike'])\n",
    "#scatter(df['MonthlyIncome'],df['YearsAtCompany'])\n",
    "pd.pivot_table(df,index='EnvironmentSatisfaction',columns='JobSatisfaction',values='Age',aggfunc='count')\n",
    "#df['BusinessTravel'].value_counts()"
   ]
  },
  {
   "cell_type": "code",
   "execution_count": 141,
   "metadata": {},
   "outputs": [
    {
     "data": {
      "image/png": "[encoded data removed]",
      "text/plain": [
       "<Figure size 432x288 with 1 Axes>"
      ]
     },
     "metadata": {
      "needs_background": "light"
     },
     "output_type": "display_data"
    }
   ],
   "source": [
    "piv_tab=pd.pivot_table(df,index='StockOptionLevel',columns='JobSatisfaction',values='Age',aggfunc='count')\n",
    "\n",
    "def normalize(s):\n",
    "    new_tab=s.T\n",
    "    for row in new_tab:\n",
    "        new_tab[row]=new_tab[row].astype(float)\n",
    "        new_tab[row] = (new_tab[row])/sum(new_tab[row])\n",
    "    return new_tab.T\n",
    "\n",
    "normalize(piv_tab).plot(kind='bar')\n",
    "xlabel('Stock Option Level')\n",
    "ylabel('Proportion of Employees')\n",
    "legend(title='Job Satisfaction',loc='lower right')\n",
    "title('Stock Option Level vs. Job Satisfaction')\n",
    "plt.savefig('Stock Options vs. Job Satisfaction.png')"
   ]
  },
  {
   "cell_type": "code",
   "execution_count": 157,
   "metadata": {},
   "outputs": [
    {
     "data": {
      "image/png": "[encoded data removed]",
      "text/plain": [
       "<Figure size 432x288 with 1 Axes>"
      ]
     },
     "metadata": {
      "needs_background": "light"
     },
     "output_type": "display_data"
    }
   ],
   "source": [
    "married_df=df[df['MaritalStatus']=='Married']\n",
    "\n",
    "piv_tab2=pd.pivot_table(df,index='OverTime',columns='JobSatisfaction',values='Age',aggfunc='count')\n",
    "\n",
    "normalize(piv_tab2).plot(kind='bar')\n",
    "xlabel('Overtime')\n",
    "ylabel('Proportion of Employees')\n",
    "legend(title='Job Satisfaction',loc='lower center')\n",
    "title('Overtime vs. Job Satisfaction')\n",
    "plt.savefig('Overtime Pay vs. Job Satisfaction.png')\n"
   ]
  },
  {
   "cell_type": "code",
   "execution_count": 173,
   "metadata": {},
   "outputs": [
    {
     "data": {
      "image/png": "[encoded data removed]",
      "text/plain": [
       "<Figure size 432x288 with 1 Axes>"
      ]
     },
     "metadata": {
      "needs_background": "light"
     },
     "output_type": "display_data"
    }
   ],
   "source": [
    "piv_tab3=pd.pivot_table(df,index='StockOptionLevel',columns='Attrition',values='Age',aggfunc='count')\n",
    "normalize(piv_tab3).plot(kind='bar')\n",
    "legend(title='Attrition',loc='best')\n",
    "xlabel('Stock Option Level')\n",
    "ylabel('Employee Proportion')\n",
    "title('Stock Option Level vs. Attrition')\n",
    "\n",
    "plt.savefig('Stock Option Level vs. Attrition.png')\n"
   ]
  },
  {
   "cell_type": "code",
   "execution_count": 144,
   "metadata": {},
   "outputs": [
    {
     "data": {
      "text/plain": [
       "<matplotlib.axes._subplots.AxesSubplot at 0x11789c18>"
      ]
     },
     "execution_count": 144,
     "metadata": {},
     "output_type": "execute_result"
    },
    {
     "data": {
      "image/png": "[encoded data removed]",
      "text/plain": [
       "<Figure size 432x288 with 1 Axes>"
      ]
     },
     "metadata": {
      "needs_background": "light"
     },
     "output_type": "display_data"
    }
   ],
   "source": [
    "piv_tab4=pd.pivot_table(df,index='Gender',columns='JobSatisfaction',values='Age',aggfunc='count')\n",
    "normalize(piv_tab4).plot(kind='bar')"
   ]
  },
  {
   "cell_type": "code",
   "execution_count": 163,
   "metadata": {},
   "outputs": [
    {
     "name": "stdout",
     "output_type": "stream",
     "text": [
      "0.8483965014577259\n",
      "0.8276643990929705\n",
      "0.838775510204\n"
     ]
    },
    {
     "data": {
      "text/plain": [
       "C(Department)[T.Research & Development]   -0.267314\n",
       "C(MaritalStatus)[T.Married]               -0.197415\n",
       "C(JobSatisfaction)[T.4L]                  -0.147873\n",
       "C(WorkLifeBalance)[T.3L]                  -0.144602\n",
       "C(JobRole)[T.Research Scientist]          -0.136356\n",
       "C(JobRole)[T.Manufacturing Director]      -0.127187\n",
       "C(JobSatisfaction)[T.2L]                  -0.099419\n",
       "C(Gender)[Female]                         -0.089705\n",
       "C(WorkLifeBalance)[T.4L]                  -0.082976\n",
       "C(Education)[T.2L]                        -0.065576\n",
       "C(BusinessTravel)[T.Travel_Rarely]        -0.056667\n",
       "C(JobRole)[T.Research Director]           -0.030691\n",
       "Age                                       -0.030070\n",
       "C(Education)[T.5L]                        -0.003936\n",
       "MonthlyIncome                             -0.000082\n",
       "C(Education)[T.4L]                         0.008022\n",
       "C(JobRole)[T.Manager]                      0.010683\n",
       "C(JobRole)[T.Human Resources]              0.028495\n",
       "C(JobSatisfaction)[T.3L]                   0.028767\n",
       "C(JobRole)[T.Sales Executive]              0.059394\n",
       "C(WorkLifeBalance)[T.2L]                   0.067342\n",
       "C(Gender)[Male]                            0.069414\n",
       "C(Education)[T.3L]                         0.082099\n",
       "C(JobRole)[T.Laboratory Technician]        0.116572\n",
       "C(JobRole)[T.Sales Representative]         0.152730\n",
       "C(Department)[T.Sales]                     0.224804\n",
       "C(BusinessTravel)[T.Travel_Frequently]     0.227949\n",
       "C(MaritalStatus)[T.Single]                 0.381138\n",
       "dtype: float64"
      ]
     },
     "execution_count": 163,
     "metadata": {},
     "output_type": "execute_result"
    }
   ],
   "source": [
    "from sklearn.model_selection import train_test_split\n",
    "df['AttritionNum']=(df['Attrition']=='Yes')*1\n",
    "formula='AttritionNum ~ 0 + C(Gender) + C(Department) + MonthlyIncome + C(WorkLifeBalance) ' + \\\n",
    "           ' + Age + C(JobSatisfaction) + C(BusinessTravel) + C(MaritalStatus) + C(JobRole) + ' + \\\n",
    "            'C(Education)'\n",
    "\n",
    "\n",
    "Y, X = dmatrices(formula, df, return_type='dataframe')\n",
    "y = Y['AttritionNum'].values\n",
    "\n",
    "X_train, X_test, y_train, y_test = train_test_split(X, y, test_size=0.3, random_state=1)\n",
    "\n",
    "from sklearn.linear_model import LogisticRegression\n",
    "model = LogisticRegression()\n",
    "result = model.fit(X_train, y_train)\n",
    "\n",
    "from sklearn import metrics\n",
    "\n",
    "prediction_train = model.predict(X_train)\n",
    "print metrics.accuracy_score(y_train, prediction_train)\n",
    "\n",
    "prediction = model.predict(X_test)\n",
    "print metrics.accuracy_score(y_test, prediction)\n",
    "\n",
    "df['AttritionNum'].value_counts()\n",
    "print 1233.0/(1233+237)\n",
    "\n",
    "weights = Series(model.coef_[0],\n",
    "                 index=X.columns.values)\n",
    "weights.sort_values()\n"
   ]
  },
  {
   "cell_type": "code",
   "execution_count": 164,
   "metadata": {},
   "outputs": [
    {
     "name": "stdout",
     "output_type": "stream",
     "text": [
      "0.8542274052478134\n",
      "0.8321995464852607\n",
      "0.838775510204\n"
     ]
    },
    {
     "data": {
      "text/plain": [
       "C(WorkLifeBalance)[T.4L]                  -1.145555\n",
       "C(WorkLifeBalance)[T.3L]                  -0.982173\n",
       "C(Department)[T.Research & Development]   -0.729951\n",
       "C(JobSatisfaction)[T.4L]                  -0.704371\n",
       "C(JobSatisfaction)[T.2L]                  -0.632671\n",
       "C(WorkLifeBalance)[T.2L]                  -0.600184\n",
       "C(JobRole)[T.Research Director]           -0.524128\n",
       "C(Gender)[Female]                         -0.328631\n",
       "C(JobRole)[T.Manager]                     -0.312933\n",
       "C(JobRole)[T.Manufacturing Director]      -0.305543\n",
       "C(JobSatisfaction)[T.3L]                  -0.270645\n",
       "C(JobRole)[T.Sales Executive]             -0.147586\n",
       "C(Gender)[Male]                           -0.106557\n",
       "Age                                       -0.029766\n",
       "C(Education)[T.2L]                         0.009693\n",
       "C(MaritalStatus)[T.Married]                0.107408\n",
       "C(Education)[T.4L]                         0.156319\n",
       "C(Education)[T.5L]                         0.167202\n",
       "C(Education)[T.3L]                         0.222014\n",
       "C(Department)[T.Sales]                     0.291518\n",
       "C(JobRole)[T.Research Scientist]           0.470068\n",
       "C(JobRole)[T.Human Resources]              0.495504\n",
       "C(BusinessTravel)[T.Travel_Rarely]         0.698871\n",
       "C(JobRole)[T.Sales Representative]         0.739113\n",
       "C(MaritalStatus)[T.Single]                 0.903569\n",
       "C(JobRole)[T.Laboratory Technician]        1.031288\n",
       "C(BusinessTravel)[T.Travel_Frequently]     1.246838\n",
       "dtype: float64"
      ]
     },
     "execution_count": 164,
     "metadata": {},
     "output_type": "execute_result"
    }
   ],
   "source": [
    "#Cutting out MonthlyIncome\n",
    "\n",
    "df['AttritionNum']=(df['Attrition']=='Yes')*1\n",
    "formula='AttritionNum ~ 0 + C(Gender) + C(Department) + C(WorkLifeBalance) ' + \\\n",
    "           ' + Age + C(JobSatisfaction) + C(BusinessTravel) + C(MaritalStatus) + C(JobRole) + ' + \\\n",
    "            'C(Education)'\n",
    "\n",
    "\n",
    "Y, X = dmatrices(formula, df, return_type='dataframe')\n",
    "y = Y['AttritionNum'].values\n",
    "\n",
    "X_train, X_test, y_train, y_test = train_test_split(X, y, test_size=0.3, random_state=1)\n",
    "\n",
    "from sklearn.linear_model import LogisticRegression\n",
    "model = LogisticRegression()\n",
    "result = model.fit(X_train, y_train)\n",
    "\n",
    "from sklearn import metrics\n",
    "\n",
    "prediction_train = model.predict(X_train)\n",
    "print metrics.accuracy_score(y_train, prediction_train)\n",
    "\n",
    "prediction = model.predict(X_test)\n",
    "print metrics.accuracy_score(y_test, prediction)\n",
    "\n",
    "df['AttritionNum'].value_counts()\n",
    "print 1233.0/(1233+237)\n",
    "\n",
    "weights = Series(model.coef_[0],\n",
    "                 index=X.columns.values)\n",
    "weights.sort_values()\n"
   ]
  },
  {
   "cell_type": "code",
   "execution_count": 166,
   "metadata": {},
   "outputs": [
    {
     "name": "stdout",
     "output_type": "stream",
     "text": [
      "0.8532555879494655\n",
      "0.8344671201814059\n",
      "0.838775510204\n"
     ]
    },
    {
     "data": {
      "text/plain": [
       "C(WorkLifeBalance)[T.4L]                  -1.153571\n",
       "C(WorkLifeBalance)[T.3L]                  -0.983881\n",
       "C(JobSatisfaction)[T.4L]                  -0.717836\n",
       "C(Department)[T.Research & Development]   -0.704858\n",
       "C(JobSatisfaction)[T.2L]                  -0.630063\n",
       "C(WorkLifeBalance)[T.2L]                  -0.602772\n",
       "C(JobRole)[T.Research Director]           -0.517143\n",
       "C(JobRole)[T.Manufacturing Director]      -0.319632\n",
       "C(Gender)[Female]                         -0.300463\n",
       "C(JobRole)[T.Manager]                     -0.289371\n",
       "C(JobSatisfaction)[T.3L]                  -0.277952\n",
       "C(JobRole)[T.Sales Executive]             -0.135582\n",
       "C(Gender)[Male]                           -0.072097\n",
       "Age                                       -0.028855\n",
       "C(MaritalStatus)[T.Married]                0.095692\n",
       "C(Department)[T.Sales]                     0.302000\n",
       "C(JobRole)[T.Research Scientist]           0.475540\n",
       "C(JobRole)[T.Human Resources]              0.515939\n",
       "C(BusinessTravel)[T.Travel_Rarely]         0.703506\n",
       "C(JobRole)[T.Sales Representative]         0.729595\n",
       "C(MaritalStatus)[T.Single]                 0.895826\n",
       "C(JobRole)[T.Laboratory Technician]        1.019540\n",
       "C(BusinessTravel)[T.Travel_Frequently]     1.254488\n",
       "dtype: float64"
      ]
     },
     "execution_count": 166,
     "metadata": {},
     "output_type": "execute_result"
    }
   ],
   "source": [
    "#Cutting out Education\n",
    "\n",
    "df['AttritionNum']=(df['Attrition']=='Yes')*1\n",
    "formula='AttritionNum ~ 0 + C(Gender) + C(Department) + C(WorkLifeBalance) ' + \\\n",
    "           ' + Age + C(JobSatisfaction) + C(BusinessTravel) + C(MaritalStatus) + C(JobRole)'\n",
    "\n",
    "\n",
    "Y, X = dmatrices(formula, df, return_type='dataframe')\n",
    "y = Y['AttritionNum'].values\n",
    "\n",
    "X_train, X_test, y_train, y_test = train_test_split(X, y, test_size=0.3, random_state=1)\n",
    "\n",
    "from sklearn.linear_model import LogisticRegression\n",
    "model = LogisticRegression()\n",
    "result = model.fit(X_train, y_train)\n",
    "\n",
    "from sklearn import metrics\n",
    "\n",
    "prediction_train = model.predict(X_train)\n",
    "print metrics.accuracy_score(y_train, prediction_train)\n",
    "\n",
    "prediction = model.predict(X_test)\n",
    "print metrics.accuracy_score(y_test, prediction)\n",
    "\n",
    "df['AttritionNum'].value_counts()\n",
    "print 1233.0/(1233+237)\n",
    "\n",
    "weights = Series(model.coef_[0],\n",
    "                 index=X.columns.values)\n",
    "weights.sort_values()\n"
   ]
  },
  {
   "cell_type": "code",
   "execution_count": 171,
   "metadata": {},
   "outputs": [
    {
     "name": "stdout",
     "output_type": "stream",
     "text": [
      "0.8629737609329446\n",
      "0.8276643990929705\n",
      "0.838775510204\n"
     ]
    },
    {
     "data": {
      "text/plain": [
       "C(WorkLifeBalance)[T.4L]                  -1.044471\n",
       "C(EnvironmentSatisfaction)[T.3L]          -1.004770\n",
       "C(WorkLifeBalance)[T.3L]                  -0.932428\n",
       "C(EnvironmentSatisfaction)[T.4L]          -0.794296\n",
       "C(EnvironmentSatisfaction)[T.2L]          -0.742659\n",
       "C(JobSatisfaction)[T.4L]                  -0.686857\n",
       "C(Department)[T.Research & Development]   -0.665610\n",
       "C(JobRole)[T.Research Director]           -0.636081\n",
       "C(JobSatisfaction)[T.2L]                  -0.553565\n",
       "C(WorkLifeBalance)[T.2L]                  -0.539910\n",
       "C(JobSatisfaction)[T.3L]                  -0.308187\n",
       "C(JobRole)[T.Manufacturing Director]      -0.227624\n",
       "C(JobRole)[T.Sales Executive]             -0.177158\n",
       "C(JobRole)[T.Manager]                     -0.164358\n",
       "C(Gender)[Female]                         -0.145221\n",
       "Age                                       -0.042343\n",
       "PercentSalaryHike                         -0.032686\n",
       "DistanceFromHome                           0.044856\n",
       "NumCompaniesWorked                         0.113864\n",
       "C(Gender)[Male]                            0.123111\n",
       "C(MaritalStatus)[T.Married]                0.140615\n",
       "C(Department)[T.Sales]                     0.411649\n",
       "C(JobRole)[T.Research Scientist]           0.581140\n",
       "C(JobRole)[T.Human Resources]              0.611380\n",
       "C(BusinessTravel)[T.Travel_Rarely]         0.819075\n",
       "C(JobRole)[T.Sales Representative]         0.908344\n",
       "C(MaritalStatus)[T.Single]                 0.943327\n",
       "C(JobRole)[T.Laboratory Technician]        1.075976\n",
       "C(BusinessTravel)[T.Travel_Frequently]     1.397531\n",
       "dtype: float64"
      ]
     },
     "execution_count": 171,
     "metadata": {},
     "output_type": "execute_result"
    }
   ],
   "source": [
    "#Adding in Distance from home, hourly rate, envirnonment satisfaction, number of companies work,\n",
    "#percent salary hike\n",
    "\n",
    "df['AttritionNum']=(df['Attrition']=='Yes')*1\n",
    "formula='AttritionNum ~ 0 + C(Gender) + C(Department) + C(WorkLifeBalance) ' + \\\n",
    "           ' + Age + C(JobSatisfaction) + C(BusinessTravel) + C(MaritalStatus) + C(JobRole) + ' + \\\n",
    "            'DistanceFromHome + C(EnvironmentSatisfaction) + NumCompaniesWorked + ' + \\\n",
    "            'PercentSalaryHike'\n",
    "\n",
    "\n",
    "Y, X = dmatrices(formula, df, return_type='dataframe')\n",
    "y = Y['AttritionNum'].values\n",
    "\n",
    "X_train, X_test, y_train, y_test = train_test_split(X, y, test_size=0.3, random_state=1)\n",
    "\n",
    "from sklearn.linear_model import LogisticRegression\n",
    "model = LogisticRegression()\n",
    "result = model.fit(X_train, y_train)\n",
    "\n",
    "from sklearn import metrics\n",
    "\n",
    "prediction_train = model.predict(X_train)\n",
    "print metrics.accuracy_score(y_train, prediction_train)\n",
    "\n",
    "prediction = model.predict(X_test)\n",
    "print metrics.accuracy_score(y_test, prediction)\n",
    "\n",
    "df['AttritionNum'].value_counts()\n",
    "print 1233.0/(1233+237)\n",
    "\n",
    "weights = Series(model.coef_[0],\n",
    "                 index=X.columns.values)\n",
    "weights.sort_values()\n"
   ]
  },
  {
   "cell_type": "code",
   "execution_count": null,
   "metadata": {},
   "outputs": [],
   "source": []
  }
 ],
 "metadata": {
  "kernelspec": {
   "display_name": "Python 2",
   "language": "python",
   "name": "python2"
  },
  "language_info": {
   "codemirror_mode": {
    "name": "ipython",
    "version": 2
   },
   "file_extension": ".py",
   "mimetype": "text/x-python",
   "name": "python",
   "nbconvert_exporter": "python",
   "pygments_lexer": "ipython2",
   "version": "2.7.16"
  }
 },
 "nbformat": 4,
 "nbformat_minor": 2
}
